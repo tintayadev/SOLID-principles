{
  "nbformat": 4,
  "nbformat_minor": 0,
  "metadata": {
    "colab": {
      "provenance": []
    },
    "kernelspec": {
      "name": "python3",
      "display_name": "Python 3"
    },
    "language_info": {
      "name": "python"
    }
  },
  "cells": [
    {
      "cell_type": "markdown",
      "source": [
        "> **Nota**\n",
        ">\n",
        "> **@abstractmethod:** Decorador para definir un método abstracto es simplemente una declaración en una clase base que indica que las clases derivadas deben proporcionar su propia implementación. Este método abstracto no tiene un cuerpo (bloque de código) en la clase base."
      ],
      "metadata": {
        "id": "1LpTV2l93tWJ"
      }
    },
    {
      "cell_type": "markdown",
      "source": [
        "## **Caso de Análisis: Sistema de Formas Geométricas**\n",
        "\n",
        "Requisitos Iniciales:\n",
        "\n",
        "- Deberías ser capaz de calcular el área de cada forma.\n",
        "- Deberías poder imprimir información sobre cada forma.\n"
      ],
      "metadata": {
        "id": "gO2dsUovxbsU"
      }
    },
    {
      "cell_type": "code",
      "source": [
        "# Código Base:\n",
        "\n",
        "class Circulo:\n",
        "    def __init__(self, radio):\n",
        "        self.radio = radio\n",
        "    def calcular_area(self):\n",
        "      pass\n",
        "    def mostrar(self):\n",
        "      pass\n",
        "\n",
        "class Rectangulo:\n",
        "    def __init__(self, ancho, altura):\n",
        "        self.ancho = ancho\n",
        "        self.altura = altura\n",
        "    def calcular_area(self):\n",
        "        pass\n",
        "    def mostrar(self):\n",
        "        pass"
      ],
      "metadata": {
        "id": "P7dNVgC1xp9G"
      },
      "execution_count": null,
      "outputs": []
    },
    {
      "cell_type": "markdown",
      "source": [
        "Aplicacion de principios SOLID"
      ],
      "metadata": {
        "id": "1nlFPkDtyNoi"
      }
    },
    {
      "cell_type": "markdown",
      "source": [
        "\n",
        "1. Principio de Responsabilidad Única (SRP):\n",
        "\n",
        "**Problema**: Las clases **`Circulo`** y **`Rectangulo`** tienen la responsabilidad de almacenar datos y deberían tener métodos para calcular área e imprimir información.\n",
        "\n",
        "**Solución**: Separar estas responsabilidades."
      ],
      "metadata": {
        "id": "mlsaTkrZx2C0"
      }
    },
    {
      "cell_type": "code",
      "source": [
        "class Circulo:\n",
        "    def __init__(self, radio):\n",
        "        self.radio = radio\n",
        "\n",
        "\n",
        "class Rectangulo:\n",
        "    def __init__(self, ancho, altura):\n",
        "        self.ancho = ancho\n",
        "        self.altura = altura\n",
        "\n",
        "class CalculadoraArea:\n",
        "    @staticmethod\n",
        "    def calcular_area(forma):\n",
        "        pass  # Implementar el cálculo de área\n",
        "\n",
        "class ImpresoraForma:\n",
        "    @staticmethod\n",
        "    def imprimir_info(forma):\n",
        "        pass  # Implementar la impresión de información\n"
      ],
      "metadata": {
        "id": "89tbOTsEx1hX"
      },
      "execution_count": null,
      "outputs": []
    },
    {
      "cell_type": "markdown",
      "source": [
        "2. Principio de Abierto/Cerrado (OCP):\n",
        "\n",
        "**Problema**: Si se agrega una nueva forma, la clase `CalculadoraArea` deberá ser modificada.\n",
        "\n",
        "**Solución**: Crear una interfaz `Forma` y hacer que cada forma la implemente."
      ],
      "metadata": {
        "id": "ZIXBTUt5yHLu"
      }
    },
    {
      "cell_type": "code",
      "source": [
        "from abc import ABC, abstractmethod\n",
        "\n",
        "class Forma(ABC):\n",
        "    @abstractmethod\n",
        "    def calcular_area(self):\n",
        "        pass\n",
        "\n",
        "class Circulo(Forma):\n",
        "    def __init__(self, radio):\n",
        "        self.radio = radio\n",
        "\n",
        "    def calcular_area(self):\n",
        "        print(3.14 * (self.radio**2))  # Implementar el cálculo de área para un círculo\n",
        "\n",
        "class Rectangulo(Forma):\n",
        "    def __init__(self, ancho, altura):\n",
        "        self.ancho = ancho\n",
        "        self.altura = altura\n",
        "\n",
        "    def calcular_area(self):\n",
        "        print(self.ancho * self.altura)  # Implementar el cálculo de área para un rectángulo\n"
      ],
      "metadata": {
        "id": "6H1r2tOsycmd"
      },
      "execution_count": null,
      "outputs": []
    },
    {
      "cell_type": "code",
      "source": [
        "a = Circulo(3)\n",
        "a.calcular_area()\n",
        "b = Rectangulo(2, 3)\n",
        "b.calcular_area()"
      ],
      "metadata": {
        "colab": {
          "base_uri": "https://localhost:8080/"
        },
        "id": "RUabEdwVJY4K",
        "outputId": "bf41d0cb-b884-444d-bd65-a289bbf0a744"
      },
      "execution_count": null,
      "outputs": [
        {
          "output_type": "stream",
          "name": "stdout",
          "text": [
            "28.26\n",
            "6\n"
          ]
        }
      ]
    },
    {
      "cell_type": "markdown",
      "source": [
        "3. Principio de Sustitución de Liskov (LSP):\n",
        "\n",
        "**Problema**: No todas las formas tienen la misma interfaz (`calcular_area`).\n",
        "\n",
        "**Solución**: Garantizar que las subclases puedan ser sustituidas por sus clases base sin afectar la funcionalidad del programa."
      ],
      "metadata": {
        "id": "xBu8Hhs1ynDm"
      }
    },
    {
      "cell_type": "code",
      "source": [
        "# Las clases Circulo y Rectangulo ya implementan correctamente la interfaz Forma.\n",
        "from abc import ABC, abstractmethod\n",
        "\n",
        "class Forma(ABC):\n",
        "    @abstractmethod\n",
        "    def calcular_area(self):\n",
        "        pass\n",
        "\n",
        "class Circulo(Forma):\n",
        "    def __init__(self, radio):\n",
        "        self.radio = radio\n",
        "\n",
        "    def calcular_area(self):\n",
        "        return self.r**2\n",
        "\n",
        "class Rectangulo(Forma):\n",
        "    def __init__(self, ancho, altura):\n",
        "        self.ancho = ancho\n",
        "        self.altura = altura\n",
        "\n",
        "    def calcular_area(self):\n",
        "        return self.ancho * self.altura\n",
        "\n",
        "c = Circulo(12)\n",
        "r = Rectangulo(12, 2)\n",
        "\n"
      ],
      "metadata": {
        "id": "2ODxQxZHymjD",
        "colab": {
          "base_uri": "https://localhost:8080/",
          "height": 141
        },
        "outputId": "7c486ea2-5b8f-476f-bc47-f5b424c017da"
      },
      "execution_count": null,
      "outputs": [
        {
          "output_type": "error",
          "ename": "SyntaxError",
          "evalue": "ignored",
          "traceback": [
            "\u001b[0;36m  File \u001b[0;32m\"<ipython-input-1-4feef23dffdb>\"\u001b[0;36m, line \u001b[0;32m28\u001b[0m\n\u001b[0;31m    if c.isinstance() == '<Circulo>';\u001b[0m\n\u001b[0m                                    ^\u001b[0m\n\u001b[0;31mSyntaxError\u001b[0m\u001b[0;31m:\u001b[0m invalid syntax\n"
          ]
        }
      ]
    },
    {
      "cell_type": "markdown",
      "source": [
        "4. Principio de Segregación de la Interfaz (ISP):\n",
        "\n",
        "**Problema**: Las formas pueden tener diferentes comportamientos y no todas necesitan implementar todas las funciones.\n",
        "**Solución**: Dividir la interfaz en interfaces más pequeñas y específicas."
      ],
      "metadata": {
        "id": "LbplRRiuy0xC"
      }
    },
    {
      "cell_type": "code",
      "source": [
        "class CalculadoraArea(ABC):\n",
        "    @abstractmethod\n",
        "    def calcular_area(self, forma):\n",
        "        pass\n",
        "\n",
        "class ImpresoraForma(ABC):\n",
        "    @abstractmethod\n",
        "    def imprimir_info(self, forma):\n",
        "        pass\n"
      ],
      "metadata": {
        "id": "J4ChJ5yry6UR"
      },
      "execution_count": null,
      "outputs": []
    },
    {
      "cell_type": "markdown",
      "source": [
        "5. Principio de Inversión de Dependencia (DIP):\n",
        "\n",
        "**Problema**: Las clases de alto nivel dependen de las clases de bajo nivel directamente.\n",
        "**Solución**: Introducir interfaces para invertir las dependencias."
      ],
      "metadata": {
        "id": "8EJcGPO4y8Ov"
      }
    },
    {
      "cell_type": "code",
      "source": [
        "class ProcesadorFormas:\n",
        "    def __init__(self, calculadora, impresora):\n",
        "        self.calculadora = calculadora\n",
        "        self.impresora = impresora\n",
        "\n",
        "    def procesar_forma(self, forma):\n",
        "        area = self.calculadora.calcular_area(forma)\n",
        "        self.impresora.imprimir_info(forma, area)\n"
      ],
      "metadata": {
        "id": "oeaETaiZzAm5"
      },
      "execution_count": null,
      "outputs": []
    },
    {
      "cell_type": "markdown",
      "source": [
        "## **Caso de Análisis: Sistema de Gestión de Usuarios con Django**"
      ],
      "metadata": {
        "id": "18OsU1D62nim"
      }
    },
    {
      "cell_type": "markdown",
      "source": [
        "Requisitos Iniciales:\n",
        "\n",
        "- Los usuarios deben poder registrarse.\n",
        "- Se debe enviar un correo electrónico de confirmación después del registro.\n",
        "- Los usuarios deben poder iniciar sesión."
      ],
      "metadata": {
        "id": "eM-8u4NK2rbx"
      }
    },
    {
      "cell_type": "code",
      "source": [
        "# Codigo base\n",
        "from django.contrib.auth.models import User\n",
        "from django.core.mail import send_mail\n",
        "\n",
        "def registrar_usuario(username, email, password):\n",
        "    user = User.objects.create_user(username, email, password)\n",
        "    send_mail('Registro Exitoso', 'Gracias por registrarte.', 'from@example.com', [email])\n"
      ],
      "metadata": {
        "id": "UTbmLATV2rJV"
      },
      "execution_count": null,
      "outputs": []
    },
    {
      "cell_type": "markdown",
      "source": [
        "Aplicacion principios SOLID"
      ],
      "metadata": {
        "id": "oVnPlyJi2y7w"
      }
    },
    {
      "cell_type": "markdown",
      "source": [
        "1. Principio de Responsabilidad Única (SRP):\n",
        "\n",
        "**Problema**: La función `registrar_usuario `tiene la responsabilidad de crear un usuario y enviar un correo electrónico\n",
        "\n",
        "**Solución**: Separar estas responsabilidades."
      ],
      "metadata": {
        "id": "pVavzbuK22Bz"
      }
    },
    {
      "cell_type": "code",
      "source": [
        "class UsuarioManager:\n",
        "    def crear_usuario(self, username, email, password):\n",
        "        return User.objects.create_user(username, email, password)\n",
        "\n",
        "class CorreoService:\n",
        "    def enviar_correo_confirmacion(self, email):\n",
        "        send_mail('Registro Exitoso', 'Gracias por registrarte.', 'from@example.com', [email])\n"
      ],
      "metadata": {
        "id": "5fi7k3SI28rd"
      },
      "execution_count": null,
      "outputs": []
    },
    {
      "cell_type": "markdown",
      "source": [
        "2. Principio de Abierto/Cerrado (OCP):\n",
        "\n",
        "**Problema**: Si se agrega un nuevo método de registro, la clase `UsuarioManager` deberá ser modificada.\n",
        "\n",
        "**Solución**: Crear una interfaz y hacer que las clases específicas la implementen."
      ],
      "metadata": {
        "id": "Ln8VXk6p2-ea"
      }
    },
    {
      "cell_type": "code",
      "source": [
        "from abc import ABC, abstractmethod\n",
        "\n",
        "class RegistroUsuario(ABC):\n",
        "    @abstractmethod\n",
        "    def registrar_usuario(self, username, email, password):\n",
        "        pass\n",
        "\n",
        "class UsuarioManager(RegistroUsuario):\n",
        "    def registrar_usuario(self, username, email, password):\n",
        "        return User.objects.create_user(username, email, password)\n",
        "\n",
        "class OtroTipoRegistro(RegistroUsuario):\n",
        "    def registrar_usuario(self, username, email, password):\n",
        "        # Lógica específica para otro tipo de registro\n"
      ],
      "metadata": {
        "id": "x2EjMNU-3Ee5"
      },
      "execution_count": null,
      "outputs": []
    },
    {
      "cell_type": "markdown",
      "source": [
        "3. Principio de Sustitución de Liskov (LSP):\n",
        "\n",
        "**Problema**: Al cambiar el método `registrar_usuario`, se pueden romper las dependencias.\n",
        "\n",
        "**Solución**: Asegurar que las subclases puedan ser sustituidas por sus clases base."
      ],
      "metadata": {
        "id": "mMqG3EeL3GMl"
      }
    },
    {
      "cell_type": "code",
      "source": [
        "# Las clases UsuarioManager y OtroTipoRegistro ya implementan correctamente la interfaz RegistroUsuario.\n",
        "\n",
        "from abc import ABC, abstractmethod\n",
        "\n",
        "class RegistroUsuario(ABC):\n",
        "    @abstractmethod\n",
        "    def registrar_usuario(self, username, email, password):\n",
        "        pass\n",
        "\n",
        "class UsuarioManager(RegistroUsuario):\n",
        "    def registrar_usuario(self, username, email, password):\n",
        "        return User.objects.create_user(username, email, password)\n",
        "\n",
        "class OtroTipoRegistro(RegistroUsuario):\n",
        "    def registrar_usuario(self, username, email, password):\n",
        "        # Lógica específica para otro tipo de registro\n",
        "\n",
        "def asegurar_registro(r):\n",
        "  return r.registrar_usuario()\n",
        "\n",
        "a = UsuarioManager()\n",
        "b = OtroTipoRegistro()\n",
        "\n",
        "asegurar_registro(a)\n",
        "asegurar_registro(b)\n"
      ],
      "metadata": {
        "id": "M-F4PyTb3MDV"
      },
      "execution_count": null,
      "outputs": []
    },
    {
      "cell_type": "markdown",
      "source": [
        "4. Principio de Segregación de la Interfaz (ISP):\n",
        "\n",
        "**Problema**: Las clases de servicios pueden tener diferentes comportamientos y no todas necesitan implementar todas las funciones.\n",
        "\n",
        "**Solución**: Dividir la interfaz en interfaces más pequeñas y específicas."
      ],
      "metadata": {
        "id": "He4ixvEU3Qlu"
      }
    },
    {
      "cell_type": "code",
      "source": [
        "class CorreoService(ABC):\n",
        "    @abstractmethod\n",
        "    def enviar_correo_confirmacion(self, email):\n",
        "        pass\n",
        "\n",
        "class OtroServicio(ABC):\n",
        "    @abstractmethod\n",
        "    def otro_metodo(self):\n",
        "        pass\n"
      ],
      "metadata": {
        "id": "5GiFMzep3ZU9"
      },
      "execution_count": null,
      "outputs": []
    },
    {
      "cell_type": "markdown",
      "source": [
        "5. Principio de Inversión de Dependencia (DIP):\n",
        "\n",
        "**Problema**: Las clases de alto nivel dependen directamente de las clases de bajo nivel.\n",
        "\n",
        "**Solución**: Introducir interfaces para invertir las dependencias."
      ],
      "metadata": {
        "id": "jmxeAB783Z3o"
      }
    },
    {
      "cell_type": "code",
      "source": [
        "class ServicioRegistro:\n",
        "    def __init__(self, registro_usuario, correo_service):\n",
        "        self.registro_usuario = registro_usuario\n",
        "        self.correo_service = correo_service\n",
        "\n",
        "    def realizar_registro(self, username, email, password):\n",
        "        user = self.registro_usuario.registrar_usuario(username, email, password)\n",
        "        self.correo_service.enviar_correo_confirmacion(email)\n"
      ],
      "metadata": {
        "id": "-W6L4bBS3ef0"
      },
      "execution_count": null,
      "outputs": []
    },
    {
      "cell_type": "markdown",
      "source": [
        "Resolucion practica"
      ],
      "metadata": {
        "id": "juF_ZLRQQee2"
      }
    },
    {
      "cell_type": "code",
      "source": [
        "class GeneradorInforme:\n",
        "  def __init__(self, datos):\n",
        "    self.datos = datos\n",
        "  def generar_informe(self):\n",
        "    with open('informe.txt', 'w') as archivo:\n",
        "      archivo.write(f'Informe: {self.datos}')\n",
        "\n",
        "class EnviadorInforme:\n",
        "  def enviar_informe(self, destinatario):\n",
        "    print(f\"informe\")\n"
      ],
      "metadata": {
        "id": "Z9lkuHudQd2L"
      },
      "execution_count": null,
      "outputs": []
    },
    {
      "cell_type": "markdown",
      "source": [
        "## **Caso de Análisis: Sistema de Gestión de Tareas**\n",
        "Requisitos Iniciales:\n",
        "\n",
        "- Los usuarios deben poder agregar nuevas tareas.\n",
        "- Deberían poder marcar tareas como completadas.\n",
        "- Deberían poder ver la lista de tareas."
      ],
      "metadata": {
        "id": "bOR3UNHG52vO"
      }
    },
    {
      "cell_type": "code",
      "source": [
        "# Codigo base\n",
        "class Tarea:\n",
        "    def __init__(self, descripcion, completada=False):\n",
        "        self.descripcion = descripcion\n",
        "        self.completada = completada\n",
        "\n",
        "class GestorTareas:\n",
        "    def __init__(self):\n",
        "        self.tareas = []\n",
        "\n",
        "    def agregar_tarea(self, descripcion):\n",
        "        tarea = Tarea(descripcion)\n",
        "        self.tareas.append(tarea)\n",
        "\n",
        "    def marcar_como_completada(self, indice):\n",
        "        if 0 <= indice < len(self.tareas):\n",
        "            self.tareas[indice].completada = True\n",
        "\n",
        "    def obtener_tareas(self):\n",
        "        return self.tareas\n"
      ],
      "metadata": {
        "id": "GKg6oEzs6Eeu"
      },
      "execution_count": null,
      "outputs": []
    },
    {
      "cell_type": "markdown",
      "source": [
        "### Aplicación de Principios YAGNI, DRY y KISS:\n",
        "\n",
        "1. **Principio YAGNI (You Ain't Gonna Need It):**\n",
        "\n",
        "**Problema**: La clase `Tarea` tiene un parámetro `completada` que se podría considerar innecesario en este punto.\n",
        "\n",
        "**Solución**: Mantenerlo simple y no añadir funcionalidades que no se estén utilizando actualmente."
      ],
      "metadata": {
        "id": "VbCQ8Afm6HEe"
      }
    },
    {
      "cell_type": "code",
      "source": [
        "class Tarea:\n",
        "    def __init__(self, descripcion):\n",
        "        self.descripcion = descripcion\n",
        "        self.completada = False\n"
      ],
      "metadata": {
        "id": "I_LbcP976QJw"
      },
      "execution_count": null,
      "outputs": []
    },
    {
      "cell_type": "markdown",
      "source": [
        "2. Principio DRY (Don't Repeat Yourself):\n",
        "\n",
        "**Problema**: Hay código duplicado para verificar los límites del índice en `marcar_como_completada`.\n",
        "\n",
        "**Solución**: Crear una función de verificación reutilizable."
      ],
      "metadata": {
        "id": "s4yqzuBb6Rra"
      }
    },
    {
      "cell_type": "code",
      "source": [
        "class GestorTareas:\n",
        "    def __init__(self):\n",
        "        self.tareas = []\n",
        "\n",
        "    def agregar_tarea(self, descripcion):\n",
        "        tarea = Tarea(descripcion)\n",
        "        self.tareas.append(tarea)\n",
        "\n",
        "    def _es_indice_valido(self, indice):\n",
        "        return 0 <= indice < len(self.tareas)\n",
        "\n",
        "    def marcar_como_completada(self, indice):\n",
        "        if self._es_indice_valido(indice):\n",
        "            self.tareas[indice].completada = True\n",
        "\n",
        "    def obtener_tareas(self):\n",
        "        return self.tareas\n"
      ],
      "metadata": {
        "id": "mPTqF3Hi6WNv"
      },
      "execution_count": null,
      "outputs": []
    },
    {
      "cell_type": "markdown",
      "source": [
        "3. Principio KISS (Keep It Simple, Stupid):\n",
        "\n",
        "**Problema**: Puede haber un exceso de complejidad al manejar la lógica de marcar como completada.\n",
        "\n",
        "**Solución**: Simplificar la lógica y mantenerla fácil de entender."
      ],
      "metadata": {
        "id": "zWNxWNwL6YKT"
      }
    },
    {
      "cell_type": "code",
      "source": [
        "class GestorTareas:\n",
        "    def __init__(self):\n",
        "        self.tareas = []\n",
        "\n",
        "    def agregar_tarea(self, descripcion):\n",
        "        tarea = Tarea(descripcion)\n",
        "        self.tareas.append(tarea)\n",
        "\n",
        "    def marcar_como_completada(self, indice):\n",
        "        if self._es_indice_valido(indice):\n",
        "            self.tareas[indice].completada = not self.tareas[indice].completada\n",
        "\n",
        "    def obtener_tareas(self):\n",
        "        return self.tareas\n"
      ],
      "metadata": {
        "id": "X1UPLN9V6ay0"
      },
      "execution_count": null,
      "outputs": []
    },
    {
      "cell_type": "markdown",
      "source": [],
      "metadata": {
        "id": "BDVkwvmTnAFW"
      }
    },
    {
      "cell_type": "markdown",
      "source": [
        "### Tarea: Practica\n",
        "\n",
        "* Envia tu codigo por slack\n",
        "\n",
        "* Del siguiente ejemplo de código, refactorizar para poder aplicar algún principio SOLID\n",
        "\n",
        "* La clase Calculadora está abierta a modificaciones para agregar nuevas operaciones\n",
        "\n"
      ],
      "metadata": {
        "id": "_Tw479pO0A1K"
      }
    },
    {
      "cell_type": "code",
      "execution_count": null,
      "metadata": {
        "id": "EUY_AlsPz__b"
      },
      "outputs": [],
      "source": [
        "class Calculadora:\n",
        "  def calcular(self, operacion, operandos):\n",
        "    if operacion == 'suma':\n",
        "      return sum(operandos)\n",
        "    elif operacion == 'resta':\n",
        "      resultado = operandos[0]\n",
        "      for i in range(1, len(operandos)):\n",
        "        resultado -= operandos[i]\n",
        "      return resultado\n",
        "    # Agregar mas casos de otras operaciones...\n",
        "\n",
        "# Uso de la calculadora\n",
        "calc = Calculadora()\n",
        "suma = calc.calcular('suma', [1, 2, 3, 4])\n",
        "print(f\"Resultado de la suma: {suma}\")\n"
      ]
    }
  ]
}